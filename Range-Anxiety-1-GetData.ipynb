{
 "cells": [
  {
   "cell_type": "code",
   "execution_count": null,
   "metadata": {},
   "outputs": [],
   "source": [
    "import os, shutil, requests\n",
    "import osmnx as ox\n",
    "import pandas as pd\n",
    "import geopandas as gpd"
   ]
  },
  {
   "cell_type": "markdown",
   "metadata": {},
   "source": [
    "## Fetch the data\n",
    "* Fetch DCFC charging stations (from NREL API)"
   ]
  },
  {
   "cell_type": "code",
   "execution_count": null,
   "metadata": {},
   "outputs": [],
   "source": [
    "#Get the key\n",
    "key = open('Data/NRELkey.txt','r').readline()"
   ]
  },
  {
   "cell_type": "code",
   "execution_count": null,
   "metadata": {},
   "outputs": [],
   "source": [
    "#Construct the service request\n",
    "baseURL = 'https://developer.nrel.gov/api/alt-fuel-stations/v1.json?'\n",
    "params = {\n",
    "    'api_key':key,                #Our key, to authenticate the service\n",
    "    'status':'E',                 #Request only currently open sites \n",
    "    'fuel_type':'ELEC',           #Request only Electric sites\n",
    "    'ev_charging_level':'dc_fast',#Request only DCFC sites\n",
    "    'state':'NC' ,                #Request only NC sites\n",
    "    'access':'public',            #Request only Public sites\n",
    "    'groups_with_access_code':'Public', #Request only sites open to Public\n",
    "    'limit':'all'                 #Don't cap results to first 200 (default)\n",
    "}"
   ]
  },
  {
   "cell_type": "code",
   "execution_count": null,
   "metadata": {},
   "outputs": [],
   "source": [
    "#Execute the request, converting the response to a dataframe\n",
    "df_ALL = pd.DataFrame.from_dict(requests.get(baseURL,params).json()['fuel_stations'])"
   ]
  },
  {
   "cell_type": "code",
   "execution_count": null,
   "metadata": {},
   "outputs": [],
   "source": [
    "#Drop excess columns\n",
    "dropCols = [col for col in df_ALL.columns if col[:3] in ('bd_','cng','hy_','ng_','e85','lng','lpg')]\n",
    "dropCols += [col for col in df_ALL.columns if col[-2:] == 'fr']\n",
    "df_ALL.drop(columns = dropCols,inplace=True)"
   ]
  },
  {
   "cell_type": "code",
   "execution_count": null,
   "metadata": {},
   "outputs": [],
   "source": [
    "#Remove sites in the Tesla network\n",
    "df_DCFC = df_ALL.loc[df_ALL['ev_network'] != 'Tesla']"
   ]
  },
  {
   "cell_type": "code",
   "execution_count": null,
   "metadata": {},
   "outputs": [],
   "source": [
    "#Save to a csv\n",
    "df_DCFC.to_csv('Data/NREL_DCFCsites.csv',index=False)"
   ]
  },
  {
   "cell_type": "code",
   "execution_count": null,
   "metadata": {},
   "outputs": [],
   "source": [
    "#Convert to a geodataframe\n",
    "from shapely.geometry import Point\n",
    "geometry = [Point(xy) for xy in zip(df_DCFC.longitude, df_DCFC.latitude)]\n",
    "gdf_DCFC = gpd.GeoDataFrame(df_DCFC,geometry=geometry,crs='epsg:4326')"
   ]
  },
  {
   "cell_type": "code",
   "execution_count": null,
   "metadata": {},
   "outputs": [],
   "source": [
    "gdf_DCFC[['id','geometry']].to_file('Data/NC_DCFC.shp')"
   ]
  },
  {
   "cell_type": "markdown",
   "metadata": {},
   "source": [
    "* Read the NC Highways graphml into a graph object; fetch if not present"
   ]
  },
  {
   "cell_type": "code",
   "execution_count": null,
   "metadata": {},
   "outputs": [],
   "source": [
    "#Fetch the NC highway graph\n",
    "graph_filename = 'Data/NC_highways_all.graphml'\n",
    "if os.path.exists(graph_filename):\n",
    "    print(f\"Loading graph from {graph_filename}\")\n",
    "    nc_graph = ox.load_graphml(filename=os.path.basename(graph_filename),\n",
    "                               folder=os.path.dirname(graph_filename))\n",
    "else:\n",
    "    print(\"Fetching data. This may take a while...\")\n",
    "    nc_graph = ox.graph_from_place(\"North Carolina\",\n",
    "                                    network_type='drive',\n",
    "                                    simplify=True,\n",
    "                                    retain_all=False,\n",
    "                                    truncate_by_edge=True,\n",
    "                                    infrastructure='way[\"highway\"~\"motorway|trunk|primary\"]')\n",
    "    print(f\"Saving file to {graph_filename}\")\n",
    "    ox.save_graphml(nc_graph,\n",
    "                    filename=os.path.basename(graph_filename),\n",
    "                    folder=os.path.dirname(graph_filename))\n",
    "                    "
   ]
  },
  {
   "cell_type": "code",
   "execution_count": null,
   "metadata": {},
   "outputs": [],
   "source": [
    "#Save as a shapefile\n",
    "ox.save_graph_shapefile(G=nc_graph,filename=\"NC_highways\",folder=\"Data\")"
   ]
  },
  {
   "cell_type": "code",
   "execution_count": null,
   "metadata": {},
   "outputs": [],
   "source": [
    "#Convert graph to a geodataframes\n",
    "gdf_nodes, gdf_edges = ox.graph_to_gdfs(nc_graph)"
   ]
  },
  {
   "cell_type": "code",
   "execution_count": null,
   "metadata": {},
   "outputs": [],
   "source": [
    "#Projections!\n",
    "from pyproj import CRS\n",
    "\n",
    "#Project to UTM (for analysis)\n",
    "utm17N_prj = CRS.from_epsg(32617)\n",
    "gdf_edges_utm = gdf_edges.to_crs(utm17N_prj)\n",
    "gdf_DCFC_utm = gdf_DCFC.to_crs(utm17N_prj)\n",
    "\n",
    "#Project to Web Mercator (for plotting)\n",
    "wm_prj = CRS.from_epsg(3857)\n",
    "gdf_edges_wm = gdf_edges.to_crs(wm_prj)\n",
    "gdf_DCFC_wm = gdf_DCFC.to_crs(wm_prj)"
   ]
  },
  {
   "cell_type": "markdown",
   "metadata": {},
   "source": [
    "## Visualize the data"
   ]
  },
  {
   "cell_type": "code",
   "execution_count": null,
   "metadata": {},
   "outputs": [],
   "source": [
    "import contextily as ctx"
   ]
  },
  {
   "cell_type": "code",
   "execution_count": null,
   "metadata": {},
   "outputs": [],
   "source": [
    "#Plot the data\n",
    "ax = gdf_edges_wm.plot(figsize=(20,10))\n",
    "gdf_DCFC_wm.plot(color='red',ax=ax)\n",
    "ctx.add_basemap(ax)"
   ]
  },
  {
   "cell_type": "markdown",
   "metadata": {},
   "source": [
    "## Identify \"Anxious Areas\"\n",
    "What road segments are > 50 miles from a DCFC location? \n",
    "\n",
    "Source: https://github.com/gboeing/osmnx-examples/blob/master/notebooks/13-isolines-isochrones.ipynb"
   ]
  },
  {
   "cell_type": "code",
   "execution_count": null,
   "metadata": {},
   "outputs": [],
   "source": [
    "import networkx as nx"
   ]
  },
  {
   "cell_type": "code",
   "execution_count": null,
   "metadata": {},
   "outputs": [],
   "source": [
    "df_DCFC.shape"
   ]
  },
  {
   "cell_type": "code",
   "execution_count": null,
   "metadata": {},
   "outputs": [],
   "source": [
    "polys = []\n",
    "subgraphs = []\n",
    "for i, row in df_DCFC.iterrows():\n",
    "    #Get the coordinates\n",
    "    thePoint = (row.latitude,row.longitude)\n",
    "    #Get the ID\n",
    "    theID = row.id\n",
    "    #Get the nearest node\n",
    "    theNode = ox.get_nearest_node(nc_graph,thePoint)\n",
    "    #Get the subgraph\n",
    "    subgraph = nx.ego_graph(nc_graph,theNode,radius=25*1609.34,distance='length')\n",
    "    #Get the nodes in the subgraph\n",
    "    node_points = [Point((data['x'],data['y'])) for node, data in subgraph.nodes(data=True)]\n",
    "    #Get the bounding poly\n",
    "    bounding_poly = gpd.GeoSeries(node_points).unary_union.convex_hull\n",
    "    #Add the polygon\n",
    "    polys.append(bounding_poly)\n",
    "    subgraphs.append(subgraph)\n",
    "    #Export the subgraph\n",
    "    # ox.save_graph_shapefile(subgraph,filename=f\"sub{theID}\",folder='Data/Subgraphs')"
   ]
  },
  {
   "cell_type": "code",
   "execution_count": null,
   "metadata": {},
   "outputs": [],
   "source": [
    "polys = []\n",
    "subgraphs = []\n",
    "from shapely.geometry import LineString\n",
    "for i, row in df_DCFC.iterrows():\n",
    "    #Get the coordinates\n",
    "    thePoint = (row.latitude,row.longitude)\n",
    "    #Get the ID\n",
    "    theID = row.id\n",
    "    #Get the nearest node\n",
    "    theNode = ox.get_nearest_node(nc_graph,thePoint)\n",
    "    #Get the subgraph\n",
    "    subgraph = nx.ego_graph(nc_graph,theNode,radius=25*1609.34,distance='length')\n",
    "    #Get the nodes in the subgraph\n",
    "    node_points = [Point((data['x'],data['y'])) for node, data in subgraph.nodes(data=True)]\n",
    "    \n",
    "    # Buffer\n",
    "    nodes_gdf = gpd.GeoDataFrame({'id': subgraph.nodes()}, geometry=node_points)\n",
    "    nodes_gdf = nodes_gdf.set_index('id')\n",
    "\n",
    "    edge_lines = []\n",
    "    for n_fr, n_to in subgraph.edges():\n",
    "        f = nodes_gdf.loc[n_fr].geometry\n",
    "        t = nodes_gdf.loc[n_to].geometry\n",
    "        edge_lines.append(LineString([f,t]))\n",
    "\n",
    "    n = nodes_gdf.buffer(50).geometry\n",
    "    e = gpd.GeoSeries(edge_lines).buffer(50).geometry\n",
    "    all_gs = list(n) + list(e)\n",
    "    new_iso = gpd.GeoSeries(all_gs).unary_union\n",
    "\n",
    "    # try to fill in surrounded areas so shapes will appear solid and blocks without white space inside them\n",
    "    #if infill:\n",
    "    #    new_iso = Polygon(newa_iso.exterior)\n",
    "    \n",
    "    #Get the bounding poly\n",
    "    #bounding_poly = gpd.GeoSeries(node_points).unary_union.convex_hull\n",
    "    #Add the polygon\n",
    "    polys.append(new_iso)\n",
    "    subgraphs.append(subgraph)\n",
    "    #Export the subgraph\n",
    "    # ox.save_graph_shapefile(subgraph,filename=f\"sub{theID}\",folder='Data/Subgraphs')"
   ]
  },
  {
   "cell_type": "code",
   "execution_count": null,
   "metadata": {},
   "outputs": [],
   "source": [
    "from descartes import PolygonPatch\n",
    "import matplotlib.pyplot as plt"
   ]
  },
  {
   "cell_type": "code",
   "execution_count": null,
   "metadata": {},
   "outputs": [],
   "source": [
    "gpd.GeoSeries(polys).plot()"
   ]
  },
  {
   "cell_type": "code",
   "execution_count": null,
   "metadata": {},
   "outputs": [],
   "source": [
    "for subgraph in subgraphs"
   ]
  },
  {
   "cell_type": "code",
   "execution_count": null,
   "metadata": {},
   "outputs": [],
   "source": [
    "fig, ax = ox.plot_graph(nc_graph, fig_height=10,\n",
    "                        show=False, edge_color='k', edge_alpha=0.2, node_color='none',close=True)\n",
    "theLine = ox.plot_graph(subgraphs[1],edge_linewidth=1.5,node_color='none',edge_color='r')"
   ]
  },
  {
   "cell_type": "code",
   "execution_count": null,
   "metadata": {},
   "outputs": [],
   "source": [
    "iso_colors = ox.get_colors(n=len(polys), cmap='Reds', start=0.3, return_hex=True)\n",
    "fig, ax = ox.plot_graph(nc_graph, fig_height=10,show=False, close=False, edge_color='k', edge_alpha=0.2, node_color='none')\n",
    "for polygon, fc in zip(polys, iso_colors):\n",
    "    if polygon.area > 0:\n",
    "        patch = PolygonPatch(polygon, fc=fc, ec='none', alpha=0.6, zorder=-1)\n",
    "        ax.add_patch(patch)\n",
    "gdf_DCFC.plot(ax=ax)\n",
    "plt.show()"
   ]
  },
  {
   "cell_type": "code",
   "execution_count": null,
   "metadata": {},
   "outputs": [],
   "source": [
    "def make_iso_polys(G, edge_buff=25, node_buff=50, infill=False):\n",
    "    isochrone_polys = []\n",
    "    for trip_time in sorted(trip_times, reverse=True):\n",
    "        subgraph = nx.ego_graph(G, center_node, radius=trip_time, distance='time')\n",
    "\n",
    "        node_points = [Point((data['x'], data['y'])) for node, data in subgraph.nodes(data=True)]\n",
    "        nodes_gdf = gpd.GeoDataFrame({'id': subgraph.nodes()}, geometry=node_points)\n",
    "        nodes_gdf = nodes_gdf.set_index('id')\n",
    "\n",
    "        edge_lines = []\n",
    "        for n_fr, n_to in subgraph.edges():\n",
    "            f = nodes_gdf.loc[n_fr].geometry\n",
    "            t = nodes_gdf.loc[n_to].geometry\n",
    "            edge_lines.append(LineString([f,t]))\n",
    "\n",
    "        n = nodes_gdf.buffer(node_buff).geometry\n",
    "        e = gpd.GeoSeries(edge_lines).buffer(edge_buff).geometry\n",
    "        all_gs = list(n) + list(e)\n",
    "        new_iso = gpd.GeoSeries(all_gs).unary_union\n",
    "        \n",
    "        # try to fill in surrounded areas so shapes will appear solid and blocks without white space inside them\n",
    "        if infill:\n",
    "            new_iso = Polygon(new_iso.exterior)\n",
    "        isochrone_polys.append(new_iso)\n",
    "    return isochrone_polys"
   ]
  },
  {
   "cell_type": "code",
   "execution_count": null,
   "metadata": {},
   "outputs": [],
   "source": [
    "iso_colors = ox.get_colors(n=len(polys), cmap='Reds', start=0.3, return_hex=True)\n",
    "fig, ax = ox.plot_graph(nc_graph, fig_height=10,show=False, close=False, edge_color='k', edge_alpha=0.2, node_color='none')\n",
    "for polygon, fc in zip(polys, iso_colors):\n",
    "    patch = PolygonPatch(polygon, fc=fc, ec='none', alpha=0.6, zorder=-1)\n",
    "    ax.add_patch(patch)\n",
    "plt.show()"
   ]
  },
  {
   "cell_type": "markdown",
   "metadata": {},
   "source": [
    "## Next step:\n",
    "The above figure reveals how far a car with 50 mile capacity "
   ]
  }
 ],
 "metadata": {
  "kernelspec": {
   "display_name": "Python 3",
   "language": "python",
   "name": "python3"
  },
  "language_info": {
   "codemirror_mode": {
    "name": "ipython",
    "version": 3
   },
   "file_extension": ".py",
   "mimetype": "text/x-python",
   "name": "python",
   "nbconvert_exporter": "python",
   "pygments_lexer": "ipython3",
   "version": "3.7.6"
  }
 },
 "nbformat": 4,
 "nbformat_minor": 2
}
