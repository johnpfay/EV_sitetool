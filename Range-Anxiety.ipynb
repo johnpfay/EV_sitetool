{
 "cells": [
  {
   "cell_type": "code",
   "execution_count": null,
   "metadata": {},
   "outputs": [],
   "source": [
    "import os, shutil, requests\n",
    "import osmnx as ox\n",
    "import pandas as pd\n",
    "import geopandas as gpd\n",
    "import "
   ]
  },
  {
   "cell_type": "markdown",
   "metadata": {},
   "source": [
    "## Fetch the data\n",
    "* Fetch DCFC charging stations (from NREL API)"
   ]
  },
  {
   "cell_type": "code",
   "execution_count": null,
   "metadata": {},
   "outputs": [],
   "source": [
    "#Get the key\n",
    "key = open('Data/NRELkey.txt','r').readline()"
   ]
  },
  {
   "cell_type": "code",
   "execution_count": null,
   "metadata": {},
   "outputs": [],
   "source": [
    "#Construct the service request\n",
    "baseURL = 'https://developer.nrel.gov/api/alt-fuel-stations/v1.json?'\n",
    "params = {\n",
    "    'api_key':key,                #Our key, to authenticate the service\n",
    "    'status':'E',                 #Request only currently open sites \n",
    "    'fuel_type':'ELEC',           #Request only Electric sites\n",
    "    'ev_charging_level':'dc_fast',#Request only DCFC sites\n",
    "    'state':'NC' ,                #Request only NC sites\n",
    "    'access':'public',            #Request only Public sites\n",
    "    'groups_with_access_code':'Public', #Request only sites open to Public\n",
    "    'limit':'all'                 #Don't cap results to first 200 (default)\n",
    "}"
   ]
  },
  {
   "cell_type": "code",
   "execution_count": null,
   "metadata": {},
   "outputs": [],
   "source": [
    "#Execute the request, converting the response to a dataframe\n",
    "df_ALL = pd.DataFrame.from_dict(requests.get(baseURL,params).json()['fuel_stations'])"
   ]
  },
  {
   "cell_type": "code",
   "execution_count": null,
   "metadata": {},
   "outputs": [],
   "source": [
    "#Drop excess columns\n",
    "dropCols = [col for col in df_ALL.columns if col[:3] in ('bd_','cng','hy_','ng_','e85','lng','lpg')]\n",
    "dropCols += [col for col in df_ALL.columns if col[-2:] == 'fr']\n",
    "df_ALL.drop(columns = dropCols,inplace=True)"
   ]
  },
  {
   "cell_type": "code",
   "execution_count": null,
   "metadata": {},
   "outputs": [],
   "source": [
    "#Remove sites in the Tesla network\n",
    "df_DCFC = df_ALL.loc[df_ALL['ev_network'] != 'Tesla']"
   ]
  },
  {
   "cell_type": "code",
   "execution_count": null,
   "metadata": {},
   "outputs": [],
   "source": [
    "#Save to a csv\n",
    "df_DCFC.to_csv('Data/NREL_DCFCsites.csv',index=False)"
   ]
  },
  {
   "cell_type": "code",
   "execution_count": null,
   "metadata": {},
   "outputs": [],
   "source": [
    "#Convert to a geodataframe\n",
    "from shapely.geometry import Point\n",
    "geometry = [Point(xy) for xy in zip(df_DCFC.longitude, df_DCFC.latitude)]\n",
    "gdf_DCFC = gpd.GeoDataFrame(df_DCFC,geometry=geometry,crs='epsg:4326')"
   ]
  },
  {
   "cell_type": "code",
   "execution_count": null,
   "metadata": {},
   "outputs": [],
   "source": [
    "gdf_DCFC.plot()"
   ]
  },
  {
   "cell_type": "markdown",
   "metadata": {},
   "source": [
    "* Read the NC Highways graphml into a graph object; fetch if not present"
   ]
  },
  {
   "cell_type": "code",
   "execution_count": null,
   "metadata": {},
   "outputs": [],
   "source": [
    "#Fetch the NC highway graph\n",
    "graph_filename = 'Data/NC_highways.graphml'\n",
    "if os.path.exists(graph_filename):\n",
    "    print(f\"Loading graph from {graph_filename}\")\n",
    "    nc_graph = ox.load_graphml(filename=os.path.basename(graph_filename),\n",
    "                               folder=os.path.dirname(graph_filename))\n",
    "else:\n",
    "    print(\"Fetching data. This may take a while...\")\n",
    "    nc_graph = ox.graph_from_place(\"North Carolina\",\n",
    "                                    network_type='drive',\n",
    "                                    simplify=True,\n",
    "                                    retain_all=False,\n",
    "                                    truncate_by_edge=True,\n",
    "                                    infrastructure='way[\"highway\"~\"motorway\"]')\n",
    "    print(f\"Saving file to {graph_filename}\")\n",
    "    ox.save_graphml(nc_graph,\n",
    "                    filename=os.path.basename(graph_filename),\n",
    "                    folder=os.path.dirname(graph_filename))\n",
    "                    "
   ]
  },
  {
   "cell_type": "code",
   "execution_count": null,
   "metadata": {},
   "outputs": [],
   "source": [
    "#Convert graph to a geodataframes\n",
    "gdf_nodes, gdf_edges = ox.graph_to_gdfs(nc_graph)"
   ]
  },
  {
   "cell_type": "code",
   "execution_count": null,
   "metadata": {},
   "outputs": [],
   "source": [
    "#Projections!\n",
    "from pyproj import CRS\n",
    "\n",
    "#Project to UTM (for analysis)\n",
    "utm17N_prj = CRS.from_epsg(32617)\n",
    "gdf_edges_utm = gdf_edges.to_crs(utm17N_prj)\n",
    "gdf_DCFC_utm = gdf_DCFC.to_crs(utm17N_prj)\n",
    "\n",
    "#Project to Web Mercator (for plotting)\n",
    "wm_prj = CRS.from_epsg(3857)\n",
    "gdf_edges_wm = gdf_edges.to_crs(wm_prj)\n",
    "gdf_DCFC_wm = gdf_DCFC.to_crs(wm_prj)"
   ]
  },
  {
   "cell_type": "markdown",
   "metadata": {},
   "source": [
    "## Visualize the data"
   ]
  },
  {
   "cell_type": "code",
   "execution_count": null,
   "metadata": {},
   "outputs": [],
   "source": [
    "import contextily as ctx"
   ]
  },
  {
   "cell_type": "code",
   "execution_count": null,
   "metadata": {},
   "outputs": [],
   "source": [
    "#Plot the data\n",
    "ax = gdf_edges_wm.plot(figsize=(20,10))\n",
    "gdf_DCFC_wm.plot(color='red',ax=ax)\n",
    "ctx.add_basemap(ax)"
   ]
  }
 ],
 "metadata": {
  "kernelspec": {
   "display_name": "Python 3",
   "language": "python",
   "name": "python3"
  },
  "language_info": {
   "codemirror_mode": {
    "name": "ipython",
    "version": 3
   },
   "file_extension": ".py",
   "mimetype": "text/x-python",
   "name": "python",
   "nbconvert_exporter": "python",
   "pygments_lexer": "ipython3",
   "version": "3.7.6"
  }
 },
 "nbformat": 4,
 "nbformat_minor": 2
}
