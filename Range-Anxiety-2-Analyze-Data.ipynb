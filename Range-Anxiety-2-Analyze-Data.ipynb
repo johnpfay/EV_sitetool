{
 "cells": [
  {
   "cell_type": "code",
   "execution_count": 1,
   "metadata": {},
   "outputs": [],
   "source": [
    "#Import packages\n",
    "import os\n",
    "import osmnx as ox\n",
    "import networkx as nx\n",
    "import pandas as pd\n",
    "import geopandas as gpd\n",
    "from shapely.geometry import Point\n",
    "import contextily as ctx\n",
    "import matplotlib.pyplot as plt\n",
    "from pyproj import CRS"
   ]
  },
  {
   "cell_type": "markdown",
   "metadata": {},
   "source": [
    "## Read in the data"
   ]
  },
  {
   "cell_type": "code",
   "execution_count": 2,
   "metadata": {},
   "outputs": [],
   "source": [
    "#Filenames\n",
    "DCFC_filename = 'Data\\\\NC_DCFC.shp'\n",
    "graph_filename = 'Data\\\\NC_highways_all.graphml'"
   ]
  },
  {
   "cell_type": "code",
   "execution_count": 3,
   "metadata": {},
   "outputs": [
    {
     "name": "stdout",
     "output_type": "stream",
     "text": [
      "Loading DCFC points from Data\\NC_DCFC.shp\n"
     ]
    }
   ],
   "source": [
    "#Read DCFC points into geodataframe\n",
    "print(f\"Loading DCFC points from {DCFC_filename}\")\n",
    "gdf_DCFC = gpd.read_file(DCFC_filename)"
   ]
  },
  {
   "cell_type": "code",
   "execution_count": 4,
   "metadata": {},
   "outputs": [
    {
     "name": "stdout",
     "output_type": "stream",
     "text": [
      "Loading graph from Data\\NC_highways_all.graphml\n"
     ]
    }
   ],
   "source": [
    "print(f\"Loading graph from {graph_filename}\")\n",
    "nc_graph = ox.load_graphml(filename=os.path.basename(graph_filename),\n",
    "                           folder=os.path.dirname(graph_filename))"
   ]
  },
  {
   "cell_type": "code",
   "execution_count": 5,
   "metadata": {},
   "outputs": [],
   "source": [
    "#Convert graph to a geodataframes\n",
    "gdf_nodes, gdf_edges = ox.graph_to_gdfs(nc_graph)"
   ]
  },
  {
   "cell_type": "code",
   "execution_count": null,
   "metadata": {},
   "outputs": [],
   "source": [
    "#Project to UTM (for analysis)\n",
    "utm17N_prj = CRS.from_epsg(32617)\n",
    "gdf_edges_utm = gdf_edges.to_crs(utm17N_prj)\n",
    "gdf_DCFC_utm = gdf_DCFC.to_crs(utm17N_prj)\n",
    "\n",
    "#Project to Web Mercator (for plotting)\n",
    "wm_prj = CRS.from_epsg(3857)\n",
    "gdf_edges_wm = gdf_edges.to_crs(wm_prj)\n",
    "gdf_DCFC_wm = gdf_DCFC.to_crs(wm_prj)"
   ]
  },
  {
   "cell_type": "markdown",
   "metadata": {},
   "source": [
    "## Visualize the data"
   ]
  },
  {
   "cell_type": "code",
   "execution_count": null,
   "metadata": {},
   "outputs": [],
   "source": [
    "#Plot the data\n",
    "ax = gdf_edges_wm.plot(figsize=(20,10))\n",
    "gdf_DCFC_wm.plot(color='red',ax=ax)\n",
    "ctx.add_basemap(ax)"
   ]
  },
  {
   "cell_type": "markdown",
   "metadata": {},
   "source": [
    "## Identify \"Safe Areas\"\n",
    "First, identify all \"safe\" areas, i.e., all alreas within a 100 mile drive of a DCFC charging location.\n",
    "\n",
    "Source: https://github.com/gboeing/osmnx-examples/blob/master/notebooks/13-isolines-isochrones.ipynb"
   ]
  },
  {
   "cell_type": "code",
   "execution_count": 11,
   "metadata": {},
   "outputs": [
    {
     "name": "stdout",
     "output_type": "stream",
     "text": [
      "...................................................................."
     ]
    }
   ],
   "source": [
    "#Set the range\n",
    "range_miles = 50\n",
    "\n",
    "#Convert the distance to meters and halve \n",
    "range_meters = range_miles * 1609.344 / 2\n",
    "\n",
    "#Create a list to hold the subgraphs created\n",
    "subgraphs = []\n",
    "\n",
    "#Iterate through each row and compute a subgraph\n",
    "for i, row in gdf_DCFC.iterrows():\n",
    "    #Status\n",
    "    print('.',end='')\n",
    "    #Get the coordinates\n",
    "    thePoint = (row.geometry.y, row.geometry.x)\n",
    "    #Get the ID\n",
    "    theID = row.id\n",
    "    #Get the nearest node\n",
    "    theNode = ox.get_nearest_node(nc_graph,thePoint)\n",
    "    #Get the subgraph\n",
    "    subgraph = nx.ego_graph(G=nc_graph, n=theNode, radius=range_meters, distance='length')\n",
    "    #Convert to a geodataframe\n",
    "    subgdf = ox.graph_to_gdfs(G=subgraph,edges=True, nodes=False)\n",
    "    #Add to list\n",
    "    subgraphs.append(subgdf)\n",
    "    \n",
    "#Merge the subgraphs gdfs together\n",
    "gdfSubgraphs = pd.concat(subgraphs)"
   ]
  },
  {
   "cell_type": "code",
   "execution_count": 15,
   "metadata": {},
   "outputs": [],
   "source": [
    "#Save as a shapefile\n",
    "gdfSubgraphs[['length','hwy','geometry']].to_file('Data\\\\Subgraphs.shp')"
   ]
  },
  {
   "cell_type": "code",
   "execution_count": null,
   "metadata": {},
   "outputs": [],
   "source": [
    "#Plot the entire network\n",
    "fig, ax = ox.plot_graph(nc_graph, fig_height=10,show=False, edge_color='k', edge_alpha=0.2, node_color='none',close=False)\n",
    "#Add the subgraphs, in red\n",
    "gdfSubgraphs.plot(ax=ax,color='red')\n",
    "#Add the DCFC sites\n",
    "gdf_DCFC.plot(ax=ax, color='blue')"
   ]
  },
  {
   "cell_type": "markdown",
   "metadata": {},
   "source": [
    "## Next step:\n",
    "The above figure reveals where a car with 100 mile range could drive. To increase this range, we'd need to add a charger anywhere within 50 miles of the existing \"safe zone\". To do that, we need to find all the terminal nodes "
   ]
  },
  {
   "cell_type": "code",
   "execution_count": 76,
   "metadata": {},
   "outputs": [],
   "source": [
    "#Get the coordinates\n",
    "theRow = gdf_DCFC.iloc[6]\n",
    "thePoint = (theRow.geometry.y, theRow.geometry.x)\n",
    "#Get the ID\n",
    "theID = row.id\n",
    "#Get the nearest node\n",
    "theNode = ox.get_nearest_node(nc_graph,thePoint)\n",
    "#Get the subgraph\n",
    "subgraph = nx.ego_graph(G=nc_graph, n=theNode, radius=range_meters, distance='length')"
   ]
  },
  {
   "cell_type": "code",
   "execution_count": null,
   "metadata": {},
   "outputs": [],
   "source": [
    "the_map = ox.plot_graph_folium(nc_graph)\n",
    "ox.plot_graph_folium(subgraph,graph_map=the_map)\n",
    "the_map"
   ]
  },
  {
   "cell_type": "code",
   "execution_count": null,
   "metadata": {},
   "outputs": [],
   "source": [
    "ax = subgraphs[6].to_crs(wm_prj).plot()\n",
    "ctx.add_basemap(ax=ax)"
   ]
  },
  {
   "cell_type": "code",
   "execution_count": 17,
   "metadata": {},
   "outputs": [],
   "source": [
    "gdfSubgraphs['hwy'] = gdfSubgraphs['highway'].apply(lambda x: x[0])\n",
    "gdfSubgraphs[['length','hwy','geometry']].to_file('Data\\\\Subgraphs.shp')"
   ]
  },
  {
   "cell_type": "code",
   "execution_count": 25,
   "metadata": {},
   "outputs": [
    {
     "ename": "TypeError",
     "evalue": "'int' object is not subscriptable",
     "output_type": "error",
     "traceback": [
      "\u001b[1;31m---------------------------------------------------------------------------\u001b[0m",
      "\u001b[1;31mTypeError\u001b[0m                                 Traceback (most recent call last)",
      "\u001b[1;32m<ipython-input-25-8112ca27294d>\u001b[0m in \u001b[0;36m<module>\u001b[1;34m\u001b[0m\n\u001b[1;32m----> 1\u001b[1;33m \u001b[0mox\u001b[0m\u001b[1;33m.\u001b[0m\u001b[0mget_node\u001b[0m\u001b[1;33m(\u001b[0m\u001b[1;36m2706300546\u001b[0m\u001b[1;33m)\u001b[0m\u001b[1;33m\u001b[0m\u001b[1;33m\u001b[0m\u001b[0m\n\u001b[0m",
      "\u001b[1;32m~\\AppData\\Local\\ESRI\\conda\\envs\\practicum\\lib\\site-packages\\osmnx\\core.py\u001b[0m in \u001b[0;36mget_node\u001b[1;34m(element)\u001b[0m\n\u001b[0;32m    375\u001b[0m \u001b[1;33m\u001b[0m\u001b[0m\n\u001b[0;32m    376\u001b[0m     \u001b[0mnode\u001b[0m \u001b[1;33m=\u001b[0m \u001b[1;33m{\u001b[0m\u001b[1;33m}\u001b[0m\u001b[1;33m\u001b[0m\u001b[1;33m\u001b[0m\u001b[0m\n\u001b[1;32m--> 377\u001b[1;33m     \u001b[0mnode\u001b[0m\u001b[1;33m[\u001b[0m\u001b[1;34m'y'\u001b[0m\u001b[1;33m]\u001b[0m \u001b[1;33m=\u001b[0m \u001b[0melement\u001b[0m\u001b[1;33m[\u001b[0m\u001b[1;34m'lat'\u001b[0m\u001b[1;33m]\u001b[0m\u001b[1;33m\u001b[0m\u001b[1;33m\u001b[0m\u001b[0m\n\u001b[0m\u001b[0;32m    378\u001b[0m     \u001b[0mnode\u001b[0m\u001b[1;33m[\u001b[0m\u001b[1;34m'x'\u001b[0m\u001b[1;33m]\u001b[0m \u001b[1;33m=\u001b[0m \u001b[0melement\u001b[0m\u001b[1;33m[\u001b[0m\u001b[1;34m'lon'\u001b[0m\u001b[1;33m]\u001b[0m\u001b[1;33m\u001b[0m\u001b[1;33m\u001b[0m\u001b[0m\n\u001b[0;32m    379\u001b[0m     \u001b[0mnode\u001b[0m\u001b[1;33m[\u001b[0m\u001b[1;34m'osmid'\u001b[0m\u001b[1;33m]\u001b[0m \u001b[1;33m=\u001b[0m \u001b[0melement\u001b[0m\u001b[1;33m[\u001b[0m\u001b[1;34m'id'\u001b[0m\u001b[1;33m]\u001b[0m\u001b[1;33m\u001b[0m\u001b[1;33m\u001b[0m\u001b[0m\n",
      "\u001b[1;31mTypeError\u001b[0m: 'int' object is not subscriptable"
     ]
    }
   ],
   "source": [
    "ox.get_node(2706300546)"
   ]
  },
  {
   "cell_type": "code",
   "execution_count": 58,
   "metadata": {},
   "outputs": [
    {
     "ename": "TypeError",
     "evalue": "edge_boundary() missing 1 required positional argument: 'nbunch1'",
     "output_type": "error",
     "traceback": [
      "\u001b[1;31m---------------------------------------------------------------------------\u001b[0m",
      "\u001b[1;31mTypeError\u001b[0m                                 Traceback (most recent call last)",
      "\u001b[1;32m<ipython-input-58-5080c3736599>\u001b[0m in \u001b[0;36m<module>\u001b[1;34m\u001b[0m\n\u001b[1;32m----> 1\u001b[1;33m \u001b[0mnx\u001b[0m\u001b[1;33m.\u001b[0m\u001b[0medge_boundary\u001b[0m\u001b[1;33m(\u001b[0m\u001b[0msubgraph\u001b[0m\u001b[1;33m)\u001b[0m\u001b[1;33m\u001b[0m\u001b[1;33m\u001b[0m\u001b[0m\n\u001b[0m",
      "\u001b[1;31mTypeError\u001b[0m: edge_boundary() missing 1 required positional argument: 'nbunch1'"
     ]
    }
   ],
   "source": [
    "nx.edge_boundary(subgraph)"
   ]
  },
  {
   "cell_type": "code",
   "execution_count": 77,
   "metadata": {},
   "outputs": [],
   "source": [
    "out_ids = []\n",
    "out_nbrs = []\n",
    "out_geoms = []\n",
    "for n,data in subgraph.nodes(data=True):\n",
    "    if subgraph.out_degree(n)==0 and nc_graph.out_degree(n)==0:\n",
    "        out_ids.append(data['osmid'])\n",
    "        out_geoms.append(Point(data['x'],data['y']))\n",
    "        "
   ]
  },
  {
   "cell_type": "code",
   "execution_count": 78,
   "metadata": {},
   "outputs": [
    {
     "data": {
      "text/plain": [
       "(4, 2)"
      ]
     },
     "execution_count": 78,
     "metadata": {},
     "output_type": "execute_result"
    }
   ],
   "source": [
    "gdfTerminals = gpd.GeoDataFrame()\n",
    "gdfTerminals['osmid'] = out_ids\n",
    "gdfTerminals['geometry'] = out_geoms\n",
    "gdfTerminals.shape"
   ]
  },
  {
   "cell_type": "code",
   "execution_count": 79,
   "metadata": {},
   "outputs": [],
   "source": [
    "gdfTerminals.to_file('Data/TerminalPts.shp')"
   ]
  },
  {
   "cell_type": "code",
   "execution_count": 80,
   "metadata": {},
   "outputs": [],
   "source": [
    "gNodes,gEdges = ox.graph_to_gdfs(nc_graph)"
   ]
  },
  {
   "cell_type": "code",
   "execution_count": 95,
   "metadata": {},
   "outputs": [],
   "source": [
    "def fixIt(val):\n",
    "    if type(val) == list:\n",
    "        return val[0]\n",
    "    else:\n",
    "        return val"
   ]
  },
  {
   "cell_type": "code",
   "execution_count": 96,
   "metadata": {},
   "outputs": [],
   "source": [
    "gEdges['hwy'] = gEdges.highway.apply(fixIt)"
   ]
  },
  {
   "cell_type": "code",
   "execution_count": 98,
   "metadata": {},
   "outputs": [],
   "source": [
    "gEdges[['hwy','geometry']].to_file('Data/FixedEdges.shp')"
   ]
  },
  {
   "cell_type": "code",
   "execution_count": null,
   "metadata": {},
   "outputs": [],
   "source": []
  }
 ],
 "metadata": {
  "kernelspec": {
   "display_name": "Python 3",
   "language": "python",
   "name": "python3"
  },
  "language_info": {
   "codemirror_mode": {
    "name": "ipython",
    "version": 3
   },
   "file_extension": ".py",
   "mimetype": "text/x-python",
   "name": "python",
   "nbconvert_exporter": "python",
   "pygments_lexer": "ipython3",
   "version": "3.7.6"
  }
 },
 "nbformat": 4,
 "nbformat_minor": 2
}
